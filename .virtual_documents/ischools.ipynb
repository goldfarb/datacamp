








from io import StringIO
import pandas as pd
import re
from selenium import webdriver
from selenium.webdriver.common.by import By
import time


## pulling the source code from tbe iSchools member directory

driver = webdriver.Chrome()

driver.get("https://www.ischools.org/members")

time.sleep(5)

a = driver.find_element(By.XPATH, "/html/body").text

driver.close()


# cleaning up the source code

# removing line breaks in th middle of a university's name
string_to_edit = re.sub(r'\nUniversity\n',' University\n',a)

# swapping tabs for line breaks
string_to_edit = re.sub(r'\n','\t',string_to_edit)

# adding line breaks between school information; 'View School' is the text at the end of each entry
string_to_edit = re.sub(r'\tView School\t','\n',string_to_edit)

# naming the columns
string_to_edit = re.sub(r'.*\n','School\tPerson\tTitle\tCountry\tArea\n',string_to_edit,1)

# removing the head matter
string_to_edit = re.sub(r'\nAbout	Member Schools	Regions	iConference	Communities	iSchools Grants	News	Join our mailing list	>	Privacy Policy	Terms & Conditions	Contact	Imprint	©2025 iSchools Inc.	We use cookies on our website to see how you interact with it. By accepting, you agree to our use of such cookies.Privacy Policy	Settings	Accept','\n',string_to_edit)

# writing the tsv to a local file
# not necessary for later steps, but was helpful while I was working to be able to view in a text editor
with open('output.txt','w+') as f:
    f.write(string_to_edit)

string_data = StringIO(string_to_edit)

# create a pandas dataframe with the cleaned data
df = pd.read_csv(string_data, sep='\t')

# removing any entry for a region outside North America
df = df[df["Area"] == 'North America']

# now that we're down to only the North American options, we don't need the column
# also removing the information about the information about deans or heads of school
df = df.drop(['Person','Title','Area'], axis=1)

# add logic to make USA → the USA

df.to_csv('file.csv', index=False)


print("The list from iSchool dot org includes %s schools in %s" % (len(c), ' and '.join(c['Country'].unique())))














## part 1: how close are the lists? what are the differences?

import pandas as pd

# get the csv of schools from iSchools dot org, including additional information I added
ischools_df = pd.read_csv('data/ischools_list.csv').sort_values('University')

# get the csv of schools from ALA
ala_df = pd.read_csv('data/ala_list.csv').sort_values('University')

# get the csv of states
states = pd.read_csv('data/states.csv')

# add a column to the iSchools dataframe indicating if the school appears in the ALA list
ischools_df['on_ala'] = ischools_df['University'].isin(ala_df['University'])

# add a column to the ALA dataframe indicating if the school appears on the iSchools list
ala_df['on_ischools'] = ala_df['University'].isin(ischools_df['University'])

# the records for schools on only the iSchools list; giving this dataframe a name because I'll use it a couple times
ischools_not_on_ala = ischools_df[ischools_df['on_ala'] == False].sort_values(by=['University'])

# a nicer to read version
ischools_only = ',\n\t'.join(ischools_not_on_ala['University'])
print("There are %s schools on the iSchools list that aren't included on the ALA's list of accredited programs\
\n\t(these are the information schools without library programs):\n\n\t%s \n" % \
      (len(ischools_not_on_ala), ischools_only))

# the records for schools on only the ALA list; giving this dataframe a name because I'll use it a couple times
ala_not_on_ischools = ala_df[ala_df['on_ischools'] == False].sort_values(by=['University'])

# a nicer to read version
ala_only = ',\n\t'.join(ala_not_on_ischools['University'])
print("There are %s schools on the ALA list that aren't included from iSchools dot org :\n\t%s \n" \
      % (len(ala_not_on_ischools), ala_only))

#the records for the schools on both lists
both_lists = ischools_df[ischools_df['on_ala'] == True].sort_values(by=['University'])

# a nicer to read version
both_and = ',\n\t'.join(both_lists['University'])
print("There are %s schools on both lists, from the ALA and iSchools:\n\t%s \n" % (len(both_all), both_and))

all_schools = pd.concat([both_lists.filter(items=['University','State']), ala_not_on_ischools.filter(items=['University','State']),\
ischools_not_on_ala.filter(items=['University','State'])]).sort_values(by='University').reset_index(drop=True)

print("There are %s schools total.\n" % (len(all_schools)))

#the records for the schools on both lists
both_lists = ischools_df[ischools_df['on_ala'] == True].sort_values(by=['University'])

# find states that don't appear on the list of all the schools
states['missing'] = states['ST'].isin(ala_df['State'])

missing_list = states[states['missing'] == True].sort_values(by=['ST'])

missing_states = ',\n\t'.join(missing_list['Name'])
print("There are %s states and provinces without a program on the ALA's accredition list:\n\t%s \n" % (len(missing_list), missing_states))

